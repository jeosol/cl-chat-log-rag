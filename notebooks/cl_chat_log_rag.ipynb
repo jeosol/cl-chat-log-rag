{
 "cells": [
  {
   "cell_type": "markdown",
   "id": "dbe961a6-eb8a-4231-8706-38ac4f86e7fd",
   "metadata": {},
   "source": [
    "# Background\n",
    "\n",
    "This is simple jupyter notebook, that part of a large project aimed at processing the Common Lisp Chat Logs to retrieve lots that are related to user queries. Previous work involved processing the multi-year data and storing a parquet files. Please note that this notebook is for illustration processes as the full dataset is quite large. Consequently, a smaller version of the dataset is used."
   ]
  },
  {
   "cell_type": "code",
   "execution_count": 1,
   "id": "65c7b60c-386a-4f0c-a53b-bd3b5bffecf8",
   "metadata": {},
   "outputs": [],
   "source": [
    "import numpy as np\n",
    "import pandas as pd\n",
    "from pathlib import Path "
   ]
  },
  {
   "cell_type": "code",
   "execution_count": 3,
   "id": "6882ecd4-bc25-4ca5-bed3-bdeac84a78bf",
   "metadata": {},
   "outputs": [],
   "source": [
    "# Define the top directories\n",
    "CASENAME='2024_11_01'\n",
    "#CASENAME='2024_12_31'\n",
    "CL_DATA_TOPDIR=Path('~/data/datasets/machine-learning/cl-chat-log-data').expanduser()\n",
    "ANALYSIS_TOPDIR= CL_DATA_TOPDIR / 'analyses' / CASENAME.lower()\n",
    "\n",
    "DATADIR_TOPDIR=Path('~/data/datasets/machine-learning/cl-chat-log-data/logs').expanduser()\n",
    "DATADIR=Path('~/data/datasets/machine-learning/cl-chat-log-data/raw_logs').expanduser()\n",
    "\n",
    "CL_DATA_FILENAME = CL_DATA_TOPDIR / 'raw_logs' / 'commonlisp' / f'commonlisp_log_data_full_v{CASENAME}.gzip'\n",
    "processed_data_filename = CL_DATA_TOPDIR / 'processed' / 'commonlisp' / f'commonlisp_processed_log_data_full_v{CASENAME}.gzip'\n",
    "processed_data_filename_small = CL_DATA_TOPDIR / 'processed' / 'commonlisp' / f'commonlisp_processed_log_data_full_v{CASENAME}_small.gzip'"
   ]
  },
  {
   "cell_type": "markdown",
   "id": "21a581c7-dbfc-4f05-bed0-9c6acc4e77c7",
   "metadata": {},
   "source": [
    "## Read the base dataframe"
   ]
  },
  {
   "cell_type": "code",
   "execution_count": null,
   "id": "9ce49d28-ab15-4fe6-a38b-d0b8a6b14bad",
   "metadata": {},
   "outputs": [],
   "source": [
    "#base_df = pd.read_parquet(processed_data_filename)    "
   ]
  },
  {
   "cell_type": "code",
   "execution_count": 40,
   "id": "0602268f-4327-4123-b729-e43d8827d263",
   "metadata": {},
   "outputs": [],
   "source": [
    "from datasets import load_dataset\n",
    "\n",
    "ds = load_dataset(\"parquet\", data_files=str(processed_data_filename_small))\n",
    "#dataset = load_dataset(\"parquet\", data_files=str(processed_data_filename))"
   ]
  },
  {
   "cell_type": "code",
   "execution_count": 41,
   "id": "01aad4c2-4d04-412a-8ef8-7678de31a916",
   "metadata": {},
   "outputs": [
    {
     "data": {
      "text/plain": [
       "DatasetDict({\n",
       "    train: Dataset({\n",
       "        features: ['date', 'id', 'username', 'message', 'room', 'message_length', 'num_sentences', 'day_of_year', 'year', 'month', 'month_name', 'hour', 'weekday', 'week', 'year_week', 'year_month_name'],\n",
       "        num_rows: 1000\n",
       "    })\n",
       "})"
      ]
     },
     "execution_count": 41,
     "metadata": {},
     "output_type": "execute_result"
    }
   ],
   "source": [
    "ds"
   ]
  },
  {
   "cell_type": "code",
   "execution_count": 37,
   "id": "c948760c-7c1f-4693-8e7c-76694860b25d",
   "metadata": {},
   "outputs": [],
   "source": [
    "#remove_columns = ['date', 'id', 'username', 'message', 'room', 'message_length', 'num_sentences', 'day_of_year', 'year', 'month', 'month_name', 'h]"
   ]
  },
  {
   "cell_type": "code",
   "execution_count": null,
   "id": "2d3a8a58-016d-4724-bf13-473884a3676b",
   "metadata": {},
   "outputs": [],
   "source": [
    "# Keep only the message column\n",
    "#columns_to_keep = [\"date\", \"message\"] # Replace with your desired columns\n",
    "#new_dataset = dataset.map(lambda example: {col: example[col] for col in columns_to_keep})"
   ]
  },
  {
   "cell_type": "code",
   "execution_count": 22,
   "id": "06a3954f-ddc3-4cec-83ca-1ea1bba33440",
   "metadata": {},
   "outputs": [],
   "source": [
    "df = dataset['train'].to_pandas()"
   ]
  },
  {
   "cell_type": "code",
   "execution_count": 24,
   "id": "a55442f0-9e45-4cdb-9e2c-ce322bec1a2a",
   "metadata": {},
   "outputs": [
    {
     "data": {
      "text/plain": [
       "count    1.355569e+06\n",
       "mean     7.037532e+01\n",
       "std      6.029763e+01\n",
       "min      1.000000e+00\n",
       "25%      2.900000e+01\n",
       "50%      5.500000e+01\n",
       "75%      9.400000e+01\n",
       "max      9.110000e+02\n",
       "Name: message_length, dtype: float64"
      ]
     },
     "execution_count": 24,
     "metadata": {},
     "output_type": "execute_result"
    }
   ],
   "source": [
    "df['message_length'].describe()"
   ]
  },
  {
   "cell_type": "code",
   "execution_count": 42,
   "id": "b5822bd9-4ce8-461d-b44e-38204255aa16",
   "metadata": {},
   "outputs": [
    {
     "data": {
      "text/plain": [
       "DatasetDict({\n",
       "    train: Dataset({\n",
       "        features: ['date', 'id', 'username', 'message', 'room', 'message_length', 'num_sentences', 'day_of_year', 'year', 'month', 'month_name', 'hour', 'weekday', 'week', 'year_week', 'year_month_name'],\n",
       "        num_rows: 1000\n",
       "    })\n",
       "})"
      ]
     },
     "execution_count": 42,
     "metadata": {},
     "output_type": "execute_result"
    }
   ],
   "source": [
    "ds"
   ]
  },
  {
   "cell_type": "code",
   "execution_count": 30,
   "id": "871dfafd-8330-4353-a417-98d2029fa08a",
   "metadata": {},
   "outputs": [],
   "source": [
    "processed_data_filename_small = CL_DATA_TOPDIR / 'processed' / 'commonlisp' / f'commonlisp_processed_log_data_full_v{CASENAME}_small.gzip'"
   ]
  },
  {
   "cell_type": "code",
   "execution_count": 31,
   "id": "124ed23e-70de-4b3c-93a6-2b0590213730",
   "metadata": {},
   "outputs": [],
   "source": [
    "#df2.to_parquet(processed_data_filename_small, index=False, compression='gzip')"
   ]
  },
  {
   "cell_type": "markdown",
   "id": "fe61fc3d-6376-4bd8-8586-c539be5924dd",
   "metadata": {},
   "source": [
    "### Create embeddings"
   ]
  },
  {
   "cell_type": "code",
   "execution_count": 39,
   "id": "98490b51-2af1-4384-bc58-0cb53a8e66d8",
   "metadata": {},
   "outputs": [],
   "source": [
    "from sentence_transformers import SentenceTransformer\n",
    "from sentence_transformers.models import StaticEmbedding\n",
    "\n",
    "static_embedding = StaticEmbedding.from_model2vec(\"minishlab/potion-base-8M\")\n",
    "model = SentenceTransformer(modules=[static_embedding])"
   ]
  },
  {
   "cell_type": "code",
   "execution_count": 45,
   "id": "79c9b2fd-0c2e-40fa-b345-7bb1607bb26b",
   "metadata": {},
   "outputs": [],
   "source": [
    "def create_embeddings(batch):\n",
    "    embeddings = model.encode(batch[\"message\"], convert_to_numpy=True)\n",
    "    batch[\"embeddings\"] = embeddings.tolist()\n",
    "    return batch"
   ]
  },
  {
   "cell_type": "code",
   "execution_count": 46,
   "id": "9045e929-e7a6-4ca8-898f-920c90503c3c",
   "metadata": {},
   "outputs": [
    {
     "name": "stderr",
     "output_type": "stream",
     "text": [
      "Map: 100%|███████████████████████████████████████████████████████████████████████████████████████████████████████████████████████████████████████████████████████████████████████████████████████████████████████████████████████████████████████████████████████████████████████| 1000/1000 [00:00<00:00, 7684.69 examples/s]\n"
     ]
    }
   ],
   "source": [
    "ds = ds.map(create_embeddings, batched=True)"
   ]
  },
  {
   "cell_type": "code",
   "execution_count": 47,
   "id": "7286cdfe-4eb8-44a5-a80f-2bf994a7e083",
   "metadata": {},
   "outputs": [
    {
     "data": {
      "text/plain": [
       "DatasetDict({\n",
       "    train: Dataset({\n",
       "        features: ['date', 'id', 'username', 'message', 'room', 'message_length', 'num_sentences', 'day_of_year', 'year', 'month', 'month_name', 'hour', 'weekday', 'week', 'year_week', 'year_month_name', 'embeddings'],\n",
       "        num_rows: 1000\n",
       "    })\n",
       "})"
      ]
     },
     "execution_count": 47,
     "metadata": {},
     "output_type": "execute_result"
    }
   ],
   "source": [
    "ds"
   ]
  },
  {
   "cell_type": "markdown",
   "id": "208699bd-7e52-4f4f-a3f0-8e821a7d6ab6",
   "metadata": {},
   "source": [
    "### Push dataset (with embedding columns) to HF"
   ]
  },
  {
   "cell_type": "code",
   "execution_count": 50,
   "id": "2688ec29-2dfb-4ad9-83aa-a708133b1280",
   "metadata": {},
   "outputs": [
    {
     "name": "stderr",
     "output_type": "stream",
     "text": [
      "Uploading the dataset shards:   0%|                                                                                                                                                                                                                                                                | 0/1 [00:00<?, ? shards/s]\n",
      "Creating parquet from Arrow format: 100%|███████████████████████████████████████████████████████████████████████████████████████████████████████████████████████████████████████████████████████████████████████████████████████████████████████████████████████████████████████████████████████| 1/1 [00:00<00:00, 20.53ba/s]\u001b[A\n",
      "Uploading the dataset shards: 100%|████████████████████████████████████████████████████████████████████████████████████████████████████████████████████████████████████████████████████████████████████████████████████████████████████████████████████████████████████████████████████████| 1/1 [00:01<00:00,  1.76s/ shards]\n"
     ]
    },
    {
     "data": {
      "text/plain": [
       "CommitInfo(commit_url='https://huggingface.co/datasets/jeosol/chat-log-embeddings-small/commit/827a18587ecb36970fc4ecd3c5c93c3a3b11437f', commit_message='Upload dataset', commit_description='', oid='827a18587ecb36970fc4ecd3c5c93c3a3b11437f', pr_url=None, repo_url=RepoUrl('https://huggingface.co/datasets/jeosol/chat-log-embeddings-small', endpoint='https://huggingface.co', repo_type='dataset', repo_id='jeosol/chat-log-embeddings-small'), pr_revision=None, pr_num=None)"
      ]
     },
     "execution_count": 50,
     "metadata": {},
     "output_type": "execute_result"
    }
   ],
   "source": [
    "ds.push_to_hub(\"jeosol/chat-log-embeddings-small\")"
   ]
  },
  {
   "cell_type": "markdown",
   "id": "77106859-0a1c-486f-98bc-5927dadc04cf",
   "metadata": {},
   "source": [
    "### Vector Search Without Index"
   ]
  },
  {
   "cell_type": "code",
   "execution_count": 68,
   "id": "f7f2633c-d5ca-48f0-8bf2-f84204db761a",
   "metadata": {},
   "outputs": [],
   "source": [
    "import duckdb\n",
    "from typing import List\n",
    "\n",
    "#'hf://datasets/{dataset_name}/**/*.parquet'\n",
    "def similarity_search_without_duckdb_index(\n",
    "    query: str,\n",
    "    k: int = 5,\n",
    "    dataset_name: str = \"jeosol/chat-log-embeddings-small\", \n",
    "    embedding_column: str = \"embeddings\",\n",
    "):\n",
    "    # Use same model as used for indexing\n",
    "    query_vector = model.encode(query)\n",
    "    embedding_dim = model.get_sentence_embedding_dimension()\n",
    "\n",
    "    sql = f\"\"\"\n",
    "        SELECT \n",
    "            *,\n",
    "            array_cosine_distance(\n",
    "                {embedding_column}::float[{embedding_dim}], \n",
    "                {query_vector.tolist()}::float[{embedding_dim}]\n",
    "            ) as distance\n",
    "        FROM 'hf://datasets/{dataset_name}/**/*.parquet'\n",
    "        ORDER BY distance\n",
    "        LIMIT {k}\n",
    "    \"\"\"\n",
    "    return duckdb.sql(sql).to_df()[['message']]\n",
    "\n",
    "def print_messages(df):\n",
    "    for item, row in df.items():\n",
    "        print(f\"{item} {row}\")\n",
    "        \n",
    "#vs_nwi = similarity_search_without_duckdb_index(\"What is the future of AI?\")\n",
    "#vs_nwi"
   ]
  },
  {
   "cell_type": "code",
   "execution_count": 59,
   "id": "f97f3406-004a-4c81-8bdd-7bdbc598ced0",
   "metadata": {},
   "outputs": [
    {
     "name": "stdout",
     "output_type": "stream",
     "text": [
      "0 I would imagine.\n",
      "1 Zhivago: yup....there's an impedance mismatch between c/python thinking and functional thinking\n",
      "2 lil could use a sequence interface.\n",
      "3 What does \"atomicity\" mean?\n",
      "4 see you next year, maybe\n"
     ]
    }
   ],
   "source": [
    "print_messages(vs_nwi)"
   ]
  },
  {
   "cell_type": "code",
   "execution_count": 60,
   "id": "ac14cd63-165c-4d5f-927b-bd022a499790",
   "metadata": {},
   "outputs": [
    {
     "name": "stdout",
     "output_type": "stream",
     "text": [
      "0 lil could use a sequence interface.\n",
      "1 How do you add a new sequence type? :)\n",
      "2 Perhaps using SPLIT-SEQUENCE:SPLIT-SEQUENCE.\n",
      "3 ykm: Also, compare an interface with an implementation\n",
      "4 axion: with split-sequence you just split the string by newline and etc.\n"
     ]
    }
   ],
   "source": [
    "print_messages(similarity_search_without_duckdb_index(\"What is a sequence interface\"))"
   ]
  },
  {
   "cell_type": "code",
   "execution_count": 69,
   "id": "ba7b9ab4-e979-4662-97fb-2adf1b2f3fbf",
   "metadata": {},
   "outputs": [
    {
     "name": "stdout",
     "output_type": "stream",
     "text": [
      "message 0    Zhivago: *nods* I see what you mean. Stuff lik...\n",
      "1                   see also asdf-package-system style\n",
      "2    Xach: what's the recommended way to remove old...\n",
      "3    I think this probably works best if FOOBAR is ...\n",
      "4    I am thinking of writing a macro that changes,...\n",
      "Name: message, dtype: object\n"
     ]
    }
   ],
   "source": [
    "print_messages(similarity_search_without_duckdb_index(\"What is package?\"))"
   ]
  }
 ],
 "metadata": {
  "kernelspec": {
   "display_name": "cl-chat-log-rag",
   "language": "python",
   "name": "cl-chat-log-rag"
  },
  "language_info": {
   "codemirror_mode": {
    "name": "ipython",
    "version": 3
   },
   "file_extension": ".py",
   "mimetype": "text/x-python",
   "name": "python",
   "nbconvert_exporter": "python",
   "pygments_lexer": "ipython3",
   "version": "3.12.0"
  }
 },
 "nbformat": 4,
 "nbformat_minor": 5
}
